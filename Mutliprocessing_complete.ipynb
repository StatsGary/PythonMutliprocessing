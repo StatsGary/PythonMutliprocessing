{
 "cells": [
  {
   "attachments": {},
   "cell_type": "markdown",
   "metadata": {},
   "source": [
    "## Process Based Concurrency and creating and starting child processes"
   ]
  },
  {
   "attachments": {},
   "cell_type": "markdown",
   "metadata": {},
   "source": [
    "A couple of items to note before working with concurrency, parellism, threats and processes (each application is a process and has a single default main thread - task).\n",
    "- `Concurrency` means doing things out of order i.e. executing tasks out of order\n",
    "- `Parellelism` executing two tasks at the same time\n",
    "- `GIL` threading is limited by the Global Interpretor lock\n",
    "- `IPC` inter-process connectivity"
   ]
  },
  {
   "attachments": {},
   "cell_type": "markdown",
   "metadata": {},
   "source": [
    "### Multiprocessing vs threading\n",
    "\n",
    "Similarities:\n",
    "\n",
    "1. Both Modules are used for concurrency \n",
    "2. Similar APIs\n",
    "3. Support for concurrency primitives in Python\n",
    "\n",
    "Differences: \n",
    "1. Native threads vs Native processes\n",
    "2. Shared memory vs IPCs (Inter process communications)\n",
    "3. Limited vs Full Parallelism (GIL)"
   ]
  },
  {
   "attachments": {},
   "cell_type": "markdown",
   "metadata": {},
   "source": [
    "Generally, use the `multiprocessing` package for CPU bound tasks and not for input / output (IO) bound tasks. "
   ]
  },
  {
   "attachments": {},
   "cell_type": "markdown",
   "metadata": {},
   "source": [
    "### Creating and starting a process"
   ]
  },
  {
   "attachments": {},
   "cell_type": "markdown",
   "metadata": {},
   "source": [
    "- `Main process` = default process created to execute a Python program, has the name *MainProcess*.\n",
    "- `Main thread` = default thread created by a main process in a Python program, has the name *MainThread*\n"
   ]
  },
  {
   "cell_type": "code",
   "execution_count": 7,
   "metadata": {},
   "outputs": [
    {
     "name": "stdout",
     "output_type": "stream",
     "text": [
      "Help on class Process in module multiprocessing.context:\n",
      "\n",
      "class Process(multiprocessing.process.BaseProcess)\n",
      " |  Process(group=None, target=None, name=None, args=(), kwargs={}, *, daemon=None)\n",
      " |  \n",
      " |  Method resolution order:\n",
      " |      Process\n",
      " |      multiprocessing.process.BaseProcess\n",
      " |      builtins.object\n",
      " |  \n",
      " |  Methods inherited from multiprocessing.process.BaseProcess:\n",
      " |  \n",
      " |  __init__(self, group=None, target=None, name=None, args=(), kwargs={}, *, daemon=None)\n",
      " |      Initialize self.  See help(type(self)) for accurate signature.\n",
      " |  \n",
      " |  __repr__(self)\n",
      " |      Return repr(self).\n",
      " |  \n",
      " |  close(self)\n",
      " |      Close the Process object.\n",
      " |      \n",
      " |      This method releases resources held by the Process object.  It is\n",
      " |      an error to call this method if the child process is still running.\n",
      " |  \n",
      " |  is_alive(self)\n",
      " |      Return whether process is alive\n",
      " |  \n",
      " |  join(self, timeout=None)\n",
      " |      Wait until child process terminates\n",
      " |  \n",
      " |  kill(self)\n",
      " |      Terminate process; sends SIGKILL signal or uses TerminateProcess()\n",
      " |  \n",
      " |  run(self)\n",
      " |      Method to be run in sub-process; can be overridden in sub-class\n",
      " |  \n",
      " |  start(self)\n",
      " |      Start child process\n",
      " |  \n",
      " |  terminate(self)\n",
      " |      Terminate process; sends SIGTERM signal or uses TerminateProcess()\n",
      " |  \n",
      " |  ----------------------------------------------------------------------\n",
      " |  Readonly properties inherited from multiprocessing.process.BaseProcess:\n",
      " |  \n",
      " |  exitcode\n",
      " |      Return exit code of process or `None` if it has yet to stop\n",
      " |  \n",
      " |  ident\n",
      " |      Return identifier (PID) of process or `None` if it has yet to start\n",
      " |  \n",
      " |  pid\n",
      " |      Return identifier (PID) of process or `None` if it has yet to start\n",
      " |  \n",
      " |  sentinel\n",
      " |      Return a file descriptor (Unix) or handle (Windows) suitable for\n",
      " |      waiting for process termination.\n",
      " |  \n",
      " |  ----------------------------------------------------------------------\n",
      " |  Data descriptors inherited from multiprocessing.process.BaseProcess:\n",
      " |  \n",
      " |  __dict__\n",
      " |      dictionary for instance variables (if defined)\n",
      " |  \n",
      " |  __weakref__\n",
      " |      list of weak references to the object (if defined)\n",
      " |  \n",
      " |  authkey\n",
      " |  \n",
      " |  daemon\n",
      " |      Return whether process is a daemon\n",
      " |  \n",
      " |  name\n",
      "\n"
     ]
    }
   ],
   "source": [
    "from time import sleep\n",
    "from multiprocessing import Process\n",
    "help(Process)"
   ]
  },
  {
   "cell_type": "code",
   "execution_count": 8,
   "metadata": {},
   "outputs": [
    {
     "name": "stdout",
     "output_type": "stream",
     "text": [
      "Overwriting create_process.py\n"
     ]
    }
   ],
   "source": [
    "%%writefile create_process.py\n",
    "from time import sleep\n",
    "from multiprocessing import Process\n",
    "\n",
    "def task(): \n",
    "    sleep(1)\n",
    "    print('This is from another process', flush=True)\n",
    "\n",
    "if __name__=='__main__':\n",
    "    process = Process(target=task)\n",
    "    process.start()\n",
    "    print('Waiting for the process to finish')\n",
    "    process.join()"
   ]
  },
  {
   "attachments": {},
   "cell_type": "markdown",
   "metadata": {},
   "source": [
    "## Extend the process class"
   ]
  },
  {
   "cell_type": "code",
   "execution_count": 9,
   "metadata": {},
   "outputs": [
    {
     "name": "stdout",
     "output_type": "stream",
     "text": [
      "Overwriting process_class_extend.py\n"
     ]
    }
   ],
   "source": [
    "%%writefile process_class_extend.py\n",
    "from time import sleep\n",
    "from multiprocessing import Process\n",
    "\n",
    "class CustomProcess(Process):\n",
    "    def run(self):\n",
    "        sleep(1)\n",
    "        print('This is another process', flush=True)\n",
    "    def __str__(self):\n",
    "        return 'This is another process'\n",
    "\n",
    "# Create entrypoint script in Python\n",
    "if __name__ == '__main__':\n",
    "    process = CustomProcess()\n",
    "    print(process)\n",
    "    process.start()\n",
    "    print('Waiting for the process to finish')\n",
    "    process.join()"
   ]
  },
  {
   "attachments": {},
   "cell_type": "markdown",
   "metadata": {},
   "source": [
    "## Configure and interact with processes"
   ]
  },
  {
   "attachments": {},
   "cell_type": "markdown",
   "metadata": {},
   "source": [
    "The below shows how to name a process:"
   ]
  },
  {
   "cell_type": "code",
   "execution_count": 10,
   "metadata": {},
   "outputs": [
    {
     "name": "stdout",
     "output_type": "stream",
     "text": [
      "Overwriting name_process.py\n"
     ]
    }
   ],
   "source": [
    "%%writefile name_process.py\n",
    "from multiprocessing import Process\n",
    "\n",
    "if __name__=='__main__':\n",
    "    process = Process(name='FunkyProcess')\n",
    "    print(process.name)"
   ]
  },
  {
   "attachments": {},
   "cell_type": "markdown",
   "metadata": {},
   "source": [
    "Configure whether the process is a Daemon or not:"
   ]
  },
  {
   "cell_type": "code",
   "execution_count": 11,
   "metadata": {},
   "outputs": [
    {
     "name": "stdout",
     "output_type": "stream",
     "text": [
      "Overwriting check_daemon_proc.py\n"
     ]
    }
   ],
   "source": [
    "%%writefile check_daemon_proc.py\n",
    "from multiprocessing import Process\n",
    "\n",
    "if __name__== '__main__':\n",
    "    proc = Process(daemon=True)\n",
    "    print(proc.daemon)"
   ]
  },
  {
   "attachments": {},
   "cell_type": "markdown",
   "metadata": {},
   "source": [
    "### Query the status of a process"
   ]
  },
  {
   "attachments": {},
   "cell_type": "markdown",
   "metadata": {},
   "source": [
    "Query the process and the PID:"
   ]
  },
  {
   "cell_type": "code",
   "execution_count": 12,
   "metadata": {},
   "outputs": [
    {
     "name": "stdout",
     "output_type": "stream",
     "text": [
      "Overwriting query_proc_pid.py\n"
     ]
    }
   ],
   "source": [
    "%%writefile query_proc_pid.py\n",
    "from multiprocessing import Process\n",
    "\n",
    "if __name__ =='__main__':\n",
    "    process = Process()\n",
    "    print(process.pid)\n",
    "    process.start()\n",
    "    print(process.pid)"
   ]
  },
  {
   "attachments": {},
   "cell_type": "markdown",
   "metadata": {},
   "source": [
    "You can also check if a process is alive or dead:"
   ]
  },
  {
   "cell_type": "code",
   "execution_count": 13,
   "metadata": {},
   "outputs": [
    {
     "name": "stdout",
     "output_type": "stream",
     "text": [
      "Overwriting check_is_alive_proc.py\n"
     ]
    }
   ],
   "source": [
    "%%writefile check_is_alive_proc.py\n",
    "from multiprocessing import Process\n",
    "\n",
    "if __name__ == '__main__':\n",
    "    process = Process()\n",
    "    print(process.is_alive())"
   ]
  },
  {
   "attachments": {},
   "cell_type": "markdown",
   "metadata": {},
   "source": [
    "Child process exit code example:"
   ]
  },
  {
   "cell_type": "code",
   "execution_count": 14,
   "metadata": {},
   "outputs": [
    {
     "name": "stdout",
     "output_type": "stream",
     "text": [
      "Overwriting child_proc_exit_code.py\n"
     ]
    }
   ],
   "source": [
    "%%writefile child_proc_exit_code.py\n",
    "from time import sleep\n",
    "from multiprocessing import Process\n",
    "\n",
    "def task():\n",
    "    sleep(1)\n",
    "\n",
    "if __name__ == '__main__':\n",
    "    process = Process(target=task)\n",
    "    print(process.exitcode)\n",
    "    process.start()\n",
    "    print(process.exitcode)\n",
    "    process.join()\n",
    "    print(process.exitcode)"
   ]
  },
  {
   "attachments": {},
   "cell_type": "markdown",
   "metadata": {},
   "source": [
    "### Terminate or kill a process"
   ]
  },
  {
   "cell_type": "code",
   "execution_count": null,
   "metadata": {},
   "outputs": [],
   "source": [
    "# process.terminate()\n",
    "# process.kill()"
   ]
  },
  {
   "attachments": {},
   "cell_type": "markdown",
   "metadata": {},
   "source": [
    "### Get the current, parent and child process"
   ]
  },
  {
   "cell_type": "code",
   "execution_count": 15,
   "metadata": {},
   "outputs": [
    {
     "name": "stdout",
     "output_type": "stream",
     "text": [
      "Writing get_current_proc.py\n"
     ]
    }
   ],
   "source": [
    "%%writefile get_current_proc.py\n",
    "from multiprocessing import current_process\n",
    "\n",
    "if __name__=='__main__':\n",
    "    process = current_process()\n",
    "    print(process)"
   ]
  },
  {
   "cell_type": "code",
   "execution_count": 16,
   "metadata": {},
   "outputs": [
    {
     "name": "stdout",
     "output_type": "stream",
     "text": [
      "Writing get_parent_proc.py\n"
     ]
    }
   ],
   "source": [
    "%%writefile get_parent_proc.py\n",
    "from multiprocessing import parent_process\n",
    "\n",
    "if __name__=='__main__':\n",
    "    process = parent_process()\n",
    "    print(process)"
   ]
  },
  {
   "cell_type": "code",
   "execution_count": 17,
   "metadata": {},
   "outputs": [
    {
     "name": "stdout",
     "output_type": "stream",
     "text": [
      "Writing get_child_proc.py\n"
     ]
    }
   ],
   "source": [
    "%%writefile get_child_proc.py\n",
    "from time import sleep\n",
    "from multiprocessing import active_children\n",
    "from multiprocessing import Process\n",
    "\n",
    "def task(): \n",
    "    sleep(1)\n",
    "\n",
    "if __name__=='__main__':\n",
    "    processes = [Process(target=task) for _ in range(5)]\n",
    "    # Start the child processes\n",
    "    for process in processes:\n",
    "        process.start()\n",
    "\n",
    "    children = active_children()\n",
    "    print(f'Active children count:{len(children)}')\n",
    "\n",
    "    for child in children:\n",
    "        print(child)"
   ]
  },
  {
   "attachments": {},
   "cell_type": "markdown",
   "metadata": {},
   "source": [
    "## Synchronise and coordinate process"
   ]
  },
  {
   "attachments": {},
   "cell_type": "markdown",
   "metadata": {},
   "source": [
    "### Mutex lock to protect critical sections"
   ]
  },
  {
   "cell_type": "code",
   "execution_count": 18,
   "metadata": {},
   "outputs": [
    {
     "name": "stdout",
     "output_type": "stream",
     "text": [
      "Writing mutex_locking.py\n"
     ]
    }
   ],
   "source": [
    "%%writefile mutex_locking.py\n",
    "from time import sleep\n",
    "from random import random\n",
    "from multiprocessing import Process\n",
    "from multiprocessing import Lock\n",
    "\n",
    "def task(shared_lock, ident, value):\n",
    "    with shared_lock:\n",
    "        print(f'*{ident} got a lock, sleeping {value}')\n",
    "        sleep(value)\n",
    "\n",
    "# Protect the entry point\n",
    "if __name__=='__main__':\n",
    "    lock = Lock()\n",
    "    # Create a number of processes with different args\n",
    "    processes = [Process(target=task,\n",
    "                        args=(lock, i, random())) for i in range(10)]\n",
    "    \n",
    "    for process in processes:\n",
    "        process.start()\n",
    "\n",
    "    for process in processes:\n",
    "        process.join()"
   ]
  },
  {
   "attachments": {},
   "cell_type": "markdown",
   "metadata": {},
   "source": [
    "## Semaphore to limit access to shared process"
   ]
  },
  {
   "cell_type": "code",
   "execution_count": 19,
   "metadata": {},
   "outputs": [
    {
     "name": "stdout",
     "output_type": "stream",
     "text": [
      "Writing semaphore_shared_access.py\n"
     ]
    }
   ],
   "source": [
    "%%writefile semaphore_shared_access.py\n",
    "from time import sleep\n",
    "from random import random\n",
    "from multiprocessing import Process, Semaphore\n",
    "\n",
    "# Task to run on the CPU\n",
    "def task(shared_semaphore, ident):\n",
    "    with shared_semaphore:\n",
    "        val = random()\n",
    "        sleep(val)\n",
    "        print(f'Process {ident} got {val}', flush=True)\n",
    "\n",
    "if __name__ =='__main__':\n",
    "    # Create the shared semaphore\n",
    "    semap = Semaphore(2)\n",
    "    processes = [Process(target=task, args=(semap, i)) for i in range(100)]\n",
    "\n",
    "    # Start Child processes\n",
    "    for process in processes:\n",
    "        process.start()\n",
    "\n",
    "    # wait for child processes to finish\n",
    "    for process in processes:\n",
    "        process.join()"
   ]
  },
  {
   "attachments": {},
   "cell_type": "markdown",
   "metadata": {},
   "source": [
    "## Signal between processes using an Event"
   ]
  },
  {
   "cell_type": "code",
   "execution_count": 21,
   "metadata": {},
   "outputs": [
    {
     "name": "stdout",
     "output_type": "stream",
     "text": [
      "Overwriting signal_proc_btw_event.py\n"
     ]
    }
   ],
   "source": [
    "%%writefile signal_proc_btw_event.py\n",
    "from time import sleep\n",
    "from random import random\n",
    "from multiprocessing import Process, Event\n",
    "\n",
    "def task(shared_event, number):\n",
    "    print(f'Process {number} waiting...', flush=True)\n",
    "    shared_event.wait()\n",
    "    value = random()\n",
    "    sleep(value)\n",
    "    print(f'Process {number} got {value}', flush=True)\n",
    "\n",
    "if __name__ == '__main__':\n",
    "    event = Event()\n",
    "    processes = [Process(target=task, args=(event, i)) for i in range(5)]\n",
    "\n",
    "    for process in processes:\n",
    "        process.start()\n",
    "    \n",
    "    print('Main process blocking...')\n",
    "    sleep(2)\n",
    "    # Trigger all child processes\n",
    "    event.set()\n",
    "\n",
    "    for process in processes: \n",
    "        process.join()\n"
   ]
  }
 ],
 "metadata": {
  "kernelspec": {
   "display_name": "multproc",
   "language": "python",
   "name": "python3"
  },
  "language_info": {
   "codemirror_mode": {
    "name": "ipython",
    "version": 3
   },
   "file_extension": ".py",
   "mimetype": "text/x-python",
   "name": "python",
   "nbconvert_exporter": "python",
   "pygments_lexer": "ipython3",
   "version": "3.9.16"
  },
  "orig_nbformat": 4,
  "vscode": {
   "interpreter": {
    "hash": "92fb63e0f6e55c44e4a5489700c8dd72ede0ff1a34e6d7ed66192699ed441267"
   }
  }
 },
 "nbformat": 4,
 "nbformat_minor": 2
}
