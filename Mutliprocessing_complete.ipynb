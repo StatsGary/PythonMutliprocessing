{
 "cells": [
  {
   "attachments": {},
   "cell_type": "markdown",
   "metadata": {},
   "source": [
    "## Process Based Concurrency and creating and starting child processes"
   ]
  },
  {
   "attachments": {},
   "cell_type": "markdown",
   "metadata": {},
   "source": [
    "A couple of items to note before working with concurrency, parellism, threats and processes (each application is a process and has a single default main thread - task).\n",
    "- `Concurrency` means doing things out of order i.e. executing tasks out of order\n",
    "- `Parellelism` executing two tasks at the same time\n",
    "- `GIL` threading is limited by the Global Interpretor lock\n",
    "- `IPC` inter-process connectivity"
   ]
  },
  {
   "attachments": {},
   "cell_type": "markdown",
   "metadata": {},
   "source": [
    "### Multiprocessing vs threading\n",
    "\n",
    "Similarities:\n",
    "\n",
    "1. Both Modules are used for concurrency \n",
    "2. Similar APIs\n",
    "3. Support for concurrency primitives in Python\n",
    "\n",
    "Differences: \n",
    "1. Native threads vs Native processes\n",
    "2. Shared memory vs IPCs (Inter process communications)\n",
    "3. Limited vs Full Parallelism (GIL)"
   ]
  },
  {
   "attachments": {},
   "cell_type": "markdown",
   "metadata": {},
   "source": [
    "Generally, use the `multiprocessing` package for CPU bound tasks and not for input / output (IO) bound tasks. "
   ]
  },
  {
   "attachments": {},
   "cell_type": "markdown",
   "metadata": {},
   "source": [
    "### Creating and starting a process"
   ]
  },
  {
   "attachments": {},
   "cell_type": "markdown",
   "metadata": {},
   "source": [
    "- `Main process` = default process created to execute a Python program, has the name *MainProcess*.\n",
    "- `Main thread` = default thread created by a main process in a Python program, has the name *MainThread*\n"
   ]
  },
  {
   "cell_type": "code",
   "execution_count": 1,
   "metadata": {},
   "outputs": [
    {
     "name": "stdout",
     "output_type": "stream",
     "text": [
      "Help on class Process in module multiprocessing.context:\n",
      "\n",
      "class Process(multiprocessing.process.BaseProcess)\n",
      " |  Process(group=None, target=None, name=None, args=(), kwargs={}, *, daemon=None)\n",
      " |  \n",
      " |  Method resolution order:\n",
      " |      Process\n",
      " |      multiprocessing.process.BaseProcess\n",
      " |      builtins.object\n",
      " |  \n",
      " |  Methods inherited from multiprocessing.process.BaseProcess:\n",
      " |  \n",
      " |  __init__(self, group=None, target=None, name=None, args=(), kwargs={}, *, daemon=None)\n",
      " |      Initialize self.  See help(type(self)) for accurate signature.\n",
      " |  \n",
      " |  __repr__(self)\n",
      " |      Return repr(self).\n",
      " |  \n",
      " |  close(self)\n",
      " |      Close the Process object.\n",
      " |      \n",
      " |      This method releases resources held by the Process object.  It is\n",
      " |      an error to call this method if the child process is still running.\n",
      " |  \n",
      " |  is_alive(self)\n",
      " |      Return whether process is alive\n",
      " |  \n",
      " |  join(self, timeout=None)\n",
      " |      Wait until child process terminates\n",
      " |  \n",
      " |  kill(self)\n",
      " |      Terminate process; sends SIGKILL signal or uses TerminateProcess()\n",
      " |  \n",
      " |  run(self)\n",
      " |      Method to be run in sub-process; can be overridden in sub-class\n",
      " |  \n",
      " |  start(self)\n",
      " |      Start child process\n",
      " |  \n",
      " |  terminate(self)\n",
      " |      Terminate process; sends SIGTERM signal or uses TerminateProcess()\n",
      " |  \n",
      " |  ----------------------------------------------------------------------\n",
      " |  Readonly properties inherited from multiprocessing.process.BaseProcess:\n",
      " |  \n",
      " |  exitcode\n",
      " |      Return exit code of process or `None` if it has yet to stop\n",
      " |  \n",
      " |  ident\n",
      " |      Return identifier (PID) of process or `None` if it has yet to start\n",
      " |  \n",
      " |  pid\n",
      " |      Return identifier (PID) of process or `None` if it has yet to start\n",
      " |  \n",
      " |  sentinel\n",
      " |      Return a file descriptor (Unix) or handle (Windows) suitable for\n",
      " |      waiting for process termination.\n",
      " |  \n",
      " |  ----------------------------------------------------------------------\n",
      " |  Data descriptors inherited from multiprocessing.process.BaseProcess:\n",
      " |  \n",
      " |  __dict__\n",
      " |      dictionary for instance variables (if defined)\n",
      " |  \n",
      " |  __weakref__\n",
      " |      list of weak references to the object (if defined)\n",
      " |  \n",
      " |  authkey\n",
      " |  \n",
      " |  daemon\n",
      " |      Return whether process is a daemon\n",
      " |  \n",
      " |  name\n",
      "\n"
     ]
    }
   ],
   "source": [
    "from time import sleep\n",
    "from multiprocessing import Process\n",
    "help(Process)"
   ]
  },
  {
   "cell_type": "code",
   "execution_count": 5,
   "metadata": {},
   "outputs": [
    {
     "name": "stdout",
     "output_type": "stream",
     "text": [
      "Writing create_process.py\n"
     ]
    }
   ],
   "source": [
    "%%writefile create_process.py\n",
    "from time import sleep\n",
    "from multiprocessing import Process\n",
    "\n",
    "def task(): \n",
    "    sleep(1)\n",
    "    print('This is from another process', flush=True)\n",
    "\n",
    "if __name__=='__main__':\n",
    "    process = Process(target=task)\n",
    "    process.start()\n",
    "    print('Waiting for the process to finish')\n",
    "    process.join()"
   ]
  },
  {
   "attachments": {},
   "cell_type": "markdown",
   "metadata": {},
   "source": [
    "## Extend the process class"
   ]
  },
  {
   "cell_type": "code",
   "execution_count": 1,
   "metadata": {},
   "outputs": [
    {
     "name": "stdout",
     "output_type": "stream",
     "text": [
      "Writing process_class_extend.py\n"
     ]
    }
   ],
   "source": [
    "%%writefile process_class_extend.py\n",
    "from time import sleep\n",
    "from multiprocessing import Process\n",
    "\n",
    "class CustomProcess(Process):\n",
    "    def run(self):\n",
    "        sleep(1)\n",
    "        print('This is another process', flush=True)\n",
    "    def __str__(self):\n",
    "        return 'This is another process'\n",
    "\n",
    "# Create entrypoint script in Python\n",
    "if __name__ == '__main__':\n",
    "    process = CustomProcess()\n",
    "    print(process)\n",
    "    process.start()\n",
    "    print('Waiting for the process to finish')\n",
    "    process.join()"
   ]
  },
  {
   "attachments": {},
   "cell_type": "markdown",
   "metadata": {},
   "source": [
    "## Configure and interact with processes"
   ]
  },
  {
   "attachments": {},
   "cell_type": "markdown",
   "metadata": {},
   "source": [
    "The below shows how to name a process:"
   ]
  },
  {
   "cell_type": "code",
   "execution_count": 2,
   "metadata": {},
   "outputs": [
    {
     "name": "stdout",
     "output_type": "stream",
     "text": [
      "Writing name_process.py\n"
     ]
    }
   ],
   "source": [
    "%%writefile name_process.py\n",
    "from multiprocessing import Process\n",
    "\n",
    "if __name__=='__main__':\n",
    "    process = Process(name='FunkyProcess')\n",
    "    print(process.name)"
   ]
  },
  {
   "attachments": {},
   "cell_type": "markdown",
   "metadata": {},
   "source": [
    "Configure whether the process is a Daemon or not:"
   ]
  },
  {
   "cell_type": "code",
   "execution_count": 3,
   "metadata": {},
   "outputs": [
    {
     "name": "stdout",
     "output_type": "stream",
     "text": [
      "Writing check_daemon_proc.py\n"
     ]
    }
   ],
   "source": [
    "%%writefile check_daemon_proc.py\n",
    "from multiprocessing import Process\n",
    "\n",
    "if __name__== '__main__':\n",
    "    proc = Process(daemon=True)\n",
    "    print(proc.daemon)"
   ]
  },
  {
   "attachments": {},
   "cell_type": "markdown",
   "metadata": {},
   "source": [
    "### Query the status of a process"
   ]
  }
 ],
 "metadata": {
  "kernelspec": {
   "display_name": "multproc",
   "language": "python",
   "name": "python3"
  },
  "language_info": {
   "codemirror_mode": {
    "name": "ipython",
    "version": 3
   },
   "file_extension": ".py",
   "mimetype": "text/x-python",
   "name": "python",
   "nbconvert_exporter": "python",
   "pygments_lexer": "ipython3",
   "version": "3.9.16"
  },
  "orig_nbformat": 4,
  "vscode": {
   "interpreter": {
    "hash": "92fb63e0f6e55c44e4a5489700c8dd72ede0ff1a34e6d7ed66192699ed441267"
   }
  }
 },
 "nbformat": 4,
 "nbformat_minor": 2
}
